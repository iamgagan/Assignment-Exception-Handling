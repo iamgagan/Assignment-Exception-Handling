{
  "nbformat": 4,
  "nbformat_minor": 0,
  "metadata": {
    "colab": {
      "name": "Assignment Exception Handling.ipynb",
      "provenance": []
    },
    "kernelspec": {
      "name": "python3",
      "display_name": "Python 3"
    },
    "language_info": {
      "name": "python"
    }
  },
  "cells": [
    {
      "cell_type": "markdown",
      "metadata": {
        "id": "5XXAGX1kBtvE"
      },
      "source": [
        "##1. Write a function to compute 5/0 and use try/except to catch the exceptions.\n"
      ]
    },
    {
      "cell_type": "code",
      "metadata": {
        "colab": {
          "base_uri": "https://localhost:8080/"
        },
        "id": "UijAYBp5BoUz",
        "outputId": "f16c571b-b12b-45d0-e2a8-d4c1fc4ba5d3"
      },
      "source": [
        "def div(x,y):\n",
        "\n",
        "  try:\n",
        "    z = x/y\n",
        "\n",
        "    print(\"Your answer is :\", z)\n",
        "\n",
        "  except ZeroDivisionError:\n",
        "    print(\"Sorry ! You are dividing by zero \")\n",
        "\n",
        "div(5,0)"
      ],
      "execution_count": 5,
      "outputs": [
        {
          "output_type": "stream",
          "text": [
            "Sorry ! You are dividing by zero \n"
          ],
          "name": "stdout"
        }
      ]
    },
    {
      "cell_type": "markdown",
      "metadata": {
        "id": "eM6DOfFRBw_h"
      },
      "source": [
        "##2. Implement a Python program to generate all sentences where subject is in [\"Americans\", \"Indians\"] and verb is in [\"Play\", \"watch\"] and the object is in [\"Baseball\",\"cricket\"]."
      ]
    },
    {
      "cell_type": "code",
      "metadata": {
        "colab": {
          "base_uri": "https://localhost:8080/"
        },
        "id": "UeuznGYhBwgL",
        "outputId": "23364444-eb04-4103-a2e7-297b77adac27"
      },
      "source": [
        "subject=[\"Americans \",\"Indians\"] \n",
        "verb=[\"play\",\"watch\"] \n",
        "obj=[\"Baseball\",\"Cricket\"]\n",
        "\n",
        "sentence_list = [(sub+\" \"+ vb + \" \" + ob) for sub in subject for vb in verb for ob in obj]\n",
        "print(sentence_list)\n",
        "\n",
        "for sentence in sentence_list:\n",
        " print (sentence)"
      ],
      "execution_count": 1,
      "outputs": [
        {
          "output_type": "stream",
          "text": [
            "['Americans  play Baseball', 'Americans  play Cricket', 'Americans  watch Baseball', 'Americans  watch Cricket', 'Indians play Baseball', 'Indians play Cricket', 'Indians watch Baseball', 'Indians watch Cricket']\n",
            "Americans  play Baseball\n",
            "Americans  play Cricket\n",
            "Americans  watch Baseball\n",
            "Americans  watch Cricket\n",
            "Indians play Baseball\n",
            "Indians play Cricket\n",
            "Indians watch Baseball\n",
            "Indians watch Cricket\n"
          ],
          "name": "stdout"
        }
      ]
    },
    {
      "cell_type": "code",
      "metadata": {
        "colab": {
          "base_uri": "https://localhost:8080/"
        },
        "id": "klM8ROWCBwi0",
        "outputId": "75fd07d1-956c-4a44-c998-86de5ad103a8"
      },
      "source": [
        "for x in subject:\n",
        "  for y in verb:\n",
        "    for z in obj:\n",
        "      print(x + \" \" + y + \" \" + z)"
      ],
      "execution_count": 4,
      "outputs": [
        {
          "output_type": "stream",
          "text": [
            "Americans  play Baseball\n",
            "Americans  play Cricket\n",
            "Americans  watch Baseball\n",
            "Americans  watch Cricket\n",
            "Indians play Baseball\n",
            "Indians play Cricket\n",
            "Indians watch Baseball\n",
            "Indians watch Cricket\n"
          ],
          "name": "stdout"
        }
      ]
    },
    {
      "cell_type": "code",
      "metadata": {
        "id": "0tdy6wZdCLPl"
      },
      "source": [
        ""
      ],
      "execution_count": null,
      "outputs": []
    }
  ]
}